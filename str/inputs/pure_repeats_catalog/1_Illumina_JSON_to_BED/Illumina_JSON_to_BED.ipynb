{
 "cells": [
  {
   "cell_type": "markdown",
   "id": "520c27c7",
   "metadata": {},
   "source": [
    "## Illumina catalog to BED file conversion\n",
    "Hope Tanudisastro | Jan 9, 2022"
   ]
  },
  {
   "cell_type": "markdown",
   "id": "c96481d9",
   "metadata": {},
   "source": [
    "This notebook converts Illumina's 174k loci catalog into a BED file to be inputted to Tandem Repeat Finder to extract pure repeats. Notably, this notebook removes complex repeats and off target regions from the BED file. "
   ]
  },
  {
   "cell_type": "markdown",
   "id": "dc6d81b2",
   "metadata": {},
   "source": [
    "### Importing variant catalog file from Illumina"
   ]
  },
  {
   "cell_type": "code",
   "execution_count": 1,
   "id": "18f230b4",
   "metadata": {},
   "outputs": [],
   "source": [
    "import json, csv, re\n",
    "f = open('Illuminavariant_catalog.json')"
   ]
  },
  {
   "cell_type": "code",
   "execution_count": 2,
   "id": "edc361c6",
   "metadata": {},
   "outputs": [],
   "source": [
    "data = json.load (f)"
   ]
  },
  {
   "cell_type": "markdown",
   "id": "356af0ae",
   "metadata": {},
   "source": [
    "### Extracting coordinates and motif"
   ]
  },
  {
   "cell_type": "code",
   "execution_count": 3,
   "id": "2ed73929",
   "metadata": {},
   "outputs": [
    {
     "name": "stdout",
     "output_type": "stream",
     "text": [
      "174293\n"
     ]
    }
   ],
   "source": [
    "coordinates = []\n",
    "motif = []\n",
    "for i in data:\n",
    "    coordinates.append(i['ReferenceRegion'])\n",
    "    motif.append(i['LocusStructure'])   \n",
    "print(len(data))"
   ]
  },
  {
   "cell_type": "markdown",
   "id": "119679a8",
   "metadata": {},
   "source": [
    "Check how many loci have complex (multiple) repeat structures and print out coordinates and motif"
   ]
  },
  {
   "cell_type": "code",
   "execution_count": 4,
   "id": "ab0a0214",
   "metadata": {},
   "outputs": [
    {
     "name": "stdout",
     "output_type": "stream",
     "text": [
      "['chr3:63912684-63912714', 'chr3:63912714-63912726']\n",
      "['chr13:70139353-70139383', 'chr13:70139383-70139428']\n",
      "['chr3:129172576-129172656', 'chr3:129172656-129172696', 'chr3:129172696-129172732']\n",
      "['chr9:69037261-69037286', 'chr9:69037286-69037304']\n",
      "['chr4:3074876-3074933', 'chr4:3074939-3074966']\n",
      "['chr20:2652733-2652757', 'chr20:2652757-2652775']\n"
     ]
    }
   ],
   "source": [
    "for i in coordinates: \n",
    "    if type(i) == type(coordinates): # complex repeats will have an array structure\n",
    "        print(i)"
   ]
  },
  {
   "cell_type": "code",
   "execution_count": 5,
   "id": "c29b0ad8",
   "metadata": {},
   "outputs": [
    {
     "name": "stdout",
     "output_type": "stream",
     "text": [
      "(GCA)*(GCC)+\n",
      "(CTA)*(CTG)*\n",
      "(CAGG)*(CAGA)*(CA)*\n",
      "(A)*(GAA)*\n",
      "(CAG)*CAACAG(CCG)*\n",
      "(GGCCTG)*(CGCCTG)*\n"
     ]
    }
   ],
   "source": [
    "for j in motif: \n",
    "    if j.count(\"(\")>=2:\n",
    "        print(j)"
   ]
  },
  {
   "cell_type": "markdown",
   "id": "fd3f4710",
   "metadata": {},
   "source": [
    "Extract indices of complex repeats"
   ]
  },
  {
   "cell_type": "code",
   "execution_count": 6,
   "id": "8e717eea",
   "metadata": {},
   "outputs": [],
   "source": [
    "complex_repeats_index=[]\n",
    "for i in coordinates: \n",
    "    if type(i) == type(coordinates):\n",
    "        complex_repeats_index.append(coordinates.index(i))"
   ]
  },
  {
   "cell_type": "code",
   "execution_count": 7,
   "id": "89c554be",
   "metadata": {},
   "outputs": [
    {
     "name": "stdout",
     "output_type": "stream",
     "text": [
      "[7, 8, 12, 17, 20, 23]\n"
     ]
    }
   ],
   "source": [
    "print(complex_repeats_index)"
   ]
  },
  {
   "cell_type": "markdown",
   "id": "a472298d",
   "metadata": {},
   "source": [
    "### Remove complex repeats "
   ]
  },
  {
   "cell_type": "code",
   "execution_count": 8,
   "id": "53b2a447",
   "metadata": {},
   "outputs": [],
   "source": [
    "#create a new motif array without the complex repeats\n",
    "motif_without_complex_repeats = []\n",
    "for i in range(len(motif)):\n",
    "    if i not in complex_repeats_index: \n",
    "        motif_without_complex_repeats.append(motif[i])"
   ]
  },
  {
   "cell_type": "code",
   "execution_count": 9,
   "id": "9d702c28",
   "metadata": {},
   "outputs": [
    {
     "name": "stdout",
     "output_type": "stream",
     "text": [
      "174287\n"
     ]
    }
   ],
   "source": [
    "print(len(motif_without_complex_repeats))"
   ]
  },
  {
   "cell_type": "markdown",
   "id": "6695e19e",
   "metadata": {},
   "source": [
    "### Clean up and prepare for GangSTR catalog format "
   ]
  },
  {
   "cell_type": "markdown",
   "id": "b8bdd25e",
   "metadata": {},
   "source": [
    "#### Remove regular expression characters from motif definition"
   ]
  },
  {
   "cell_type": "code",
   "execution_count": 10,
   "id": "e6ab1d58",
   "metadata": {},
   "outputs": [],
   "source": [
    "for i in range(len(motif_without_complex_repeats)):\n",
    "        line = motif_without_complex_repeats[i]\n",
    "        motif_without_complex_repeats[i] = re.sub('[()*+]', '', line)"
   ]
  },
  {
   "cell_type": "markdown",
   "id": "cfb4d430",
   "metadata": {},
   "source": [
    "#### Create motif length attribute"
   ]
  },
  {
   "cell_type": "code",
   "execution_count": 11,
   "id": "91c1f1b7",
   "metadata": {},
   "outputs": [],
   "source": [
    "motif_length = []\n",
    "for i in range(len(motif_without_complex_repeats)):\n",
    "    motif_length.append(len(motif_without_complex_repeats[i]))   "
   ]
  },
  {
   "cell_type": "markdown",
   "id": "5e62a650",
   "metadata": {},
   "source": [
    "#### Create separate chromosome and coordinate attributes"
   ]
  },
  {
   "cell_type": "code",
   "execution_count": 12,
   "id": "50f2a0e3",
   "metadata": {},
   "outputs": [],
   "source": [
    "chromosome = [] \n",
    "coordinate_1 =[] #start coordinate\n",
    "coordinate_2 = [] #end coordinate \n",
    "\n",
    "for i in range(len(coordinates)):\n",
    "    if i not in complex_repeats_index: \n",
    "        chromosome.append((coordinates[i].split(\":\"))[0])\n",
    "        coordinate_pair = coordinates[i].split(\":\")[1]\n",
    "        #print(coordinate_pair)\n",
    "        coordinate_1.append(coordinate_pair.split(\"-\")[0])\n",
    "        coordinate_2.append(coordinate_pair.split(\"-\")[1])\n"
   ]
  },
  {
   "cell_type": "code",
   "execution_count": null,
   "id": "cff5e53d",
   "metadata": {},
   "outputs": [],
   "source": [
    "Sanity check"
   ]
  },
  {
   "cell_type": "code",
   "execution_count": 16,
   "id": "8f232cb3",
   "metadata": {},
   "outputs": [
    {
     "name": "stdout",
     "output_type": "stream",
     "text": [
      "174293\n",
      "174287\n",
      "174287\n",
      "174287\n",
      "174287\n",
      "174287\n"
     ]
    }
   ],
   "source": [
    "print(len(chromosome))\n",
    "print(len(coordinate_1))\n",
    "print(len(coordinate_2))\n",
    "print(len(motif_length))\n",
    "print(len(motif_without_complex_repeats))"
   ]
  },
  {
   "cell_type": "markdown",
   "id": "456b02db",
   "metadata": {},
   "source": [
    "All arrays have the expected length = 174,287"
   ]
  },
  {
   "cell_type": "markdown",
   "id": "167aaa1a",
   "metadata": {},
   "source": [
    "### Create a BED file using the attributes"
   ]
  },
  {
   "cell_type": "code",
   "execution_count": 14,
   "id": "9d8152a2",
   "metadata": {},
   "outputs": [],
   "source": [
    "bed_catalog = open(\"bed_catalog_without_complex_repeats.bed\", \"w\")\n",
    "for i in range(len(chromosome)): \n",
    "        bed_catalog.write(chromosome[i]+\"\\t\"+ coordinate_1[i] +\"\\t\"+ coordinate_2[i]+\"\\t\"+ str(motif_length[i])+\"\\t\"+ motif_without_complex_repeats[i]+\"\\n\")\n",
    "bed_catalog.close()"
   ]
  }
 ],
 "metadata": {
  "kernelspec": {
   "display_name": "Python 3 (ipykernel)",
   "language": "python",
   "name": "python3"
  },
  "language_info": {
   "codemirror_mode": {
    "name": "ipython",
    "version": 3
   },
   "file_extension": ".py",
   "mimetype": "text/x-python",
   "name": "python",
   "nbconvert_exporter": "python",
   "pygments_lexer": "ipython3",
   "version": "3.9.5"
  }
 },
 "nbformat": 4,
 "nbformat_minor": 5
}