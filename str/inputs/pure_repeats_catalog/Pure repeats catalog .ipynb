{
 "cells": [
  {
   "cell_type": "markdown",
   "id": "8b97aa5c",
   "metadata": {},
   "source": [
    "# Pure repeats catalog creation"
   ]
  },
  {
   "cell_type": "markdown",
   "id": "829d04c6",
   "metadata": {},
   "source": [
    "Hope Tanudisastro | Jan 9, 2023"
   ]
  },
  {
   "cell_type": "markdown",
   "id": "9e05d9ea",
   "metadata": {},
   "source": [
    "The purpose of this notebook is to filter loci defined in the Illumina Repeats Catalog and keep only those with 100% pure repeat sequences.(https://github.com/Illumina/RepeatCatalogs). \n",
    "\n",
    "Repeat purity will be identified by TandemRepeatFinder (TRF). Loci that are not able to be analysed by TRF (due to short sequence length) will be filtered using a simple script/manually. \n"
   ]
  },
  {
   "cell_type": "markdown",
   "id": "715938e7",
   "metadata": {},
   "source": [
    "### File importing and data cleaning"
   ]
  },
  {
   "cell_type": "markdown",
   "id": "be0bdb35",
   "metadata": {},
   "source": [
    "We first import the file containing the loci analysed by TRF. For details on how the TRF output file was generated, see here: https://docs.google.com/document/d/1C4Q6tFDYFWK3MJKeKjQavK6gug7NNa1TIpaGJy67ES4/edit?usp=sharing"
   ]
  },
  {
   "cell_type": "code",
   "execution_count": 1,
   "id": "cbddaf57",
   "metadata": {},
   "outputs": [],
   "source": [
    "import json, csv, re\n",
    "f = open('trf_output.dat')\n",
    "trf_output = f.readlines()"
   ]
  },
  {
   "cell_type": "markdown",
   "id": "08927063",
   "metadata": {},
   "source": [
    "Example output: (line 8 is the first informative line)"
   ]
  },
  {
   "cell_type": "code",
   "execution_count": 2,
   "id": "fc249a52",
   "metadata": {},
   "outputs": [
    {
     "name": "stdout",
     "output_type": "stream",
     "text": [
      "Sequence: chrX:148500631-148500691\n",
      "\n",
      "\n",
      "\n",
      "\n",
      "\n",
      "\n",
      "\n",
      "Parameters: 2 7 7 80 10 2 500\n",
      "\n",
      "\n",
      "\n",
      "\n",
      "\n",
      "1 60 3 20.0 3 92 0 102 0 63 33 3 1.11 GCC GCCGCTGCCGCCGCCGCCGCCGCCGCCGCCGCCGCCGCCGCCGCCGCCGCCGCTGCCGCC\n",
      "\n",
      "\n",
      "\n",
      "\n",
      "\n",
      "Sequence: chrX:67545316-67545385\n",
      "\n",
      "\n",
      "\n",
      "\n",
      "\n",
      "\n",
      "\n",
      "Parameters: 2 7 7 80 10 2 500\n",
      "\n",
      "\n",
      "\n",
      "\n",
      "\n",
      "1 69 3 23.0 3 100 0 138 33 33 33 0 1.58 GCA GCAGCAGCAGCAGCAGCAGCAGCAGCAGCAGCAGCAGCAGCAGCAGCAGCAGCAGCAGCAGCAGCAGCA\n",
      "\n",
      "\n",
      "\n",
      "\n",
      "\n",
      "Sequence: chr12:6936716-6936773\n",
      "\n",
      "\n",
      "\n",
      "\n",
      "\n",
      "\n",
      "\n",
      "Parameters: 2 7 7 80 10 2 500\n",
      "\n",
      "\n",
      "\n",
      "\n",
      "\n",
      "1 57 3 19.0 3 92 0 96 36 33 29 0 1.58 CAG CAGCAACAGCAACAGCAGCAGCAGCAGCAGCAGCAGCAGCAGCAGCAGCAGCAGCAG\n",
      "\n",
      "\n",
      "\n",
      "\n",
      "\n",
      "Sequence: chr6:16327633-16327723\n",
      "\n",
      "\n",
      "\n",
      "\n",
      "\n",
      "\n",
      "\n",
      "Parameters: 2 7 7 80 10 2 500\n",
      "\n",
      "\n",
      "\n",
      "\n",
      "\n",
      "1 90 3 30.0 3 95 0 162 2 31 33 33 1.70 TGC TGCTGCTGCTGCTGCTGCTGCTGCTGCTGCTGCTGCTGCTGCTGATGCTGATGCTGCTGCTGCTGCTGCTGCTGCTGCTGCTGCTGCTGC\n",
      "\n",
      "\n",
      "\n",
      "\n",
      "\n",
      "Sequence: chr22:45795354-45795424\n",
      "\n",
      "\n",
      "\n"
     ]
    }
   ],
   "source": [
    "for i in range(8,50):\n",
    "    print(trf_output[i])"
   ]
  },
  {
   "cell_type": "markdown",
   "id": "cbe16e1a",
   "metadata": {},
   "source": [
    "We break up the TRF output file into sequence, parameter, and metrics arrays"
   ]
  },
  {
   "cell_type": "code",
   "execution_count": 3,
   "id": "5e625bdf",
   "metadata": {},
   "outputs": [],
   "source": [
    "sequence = [] #loci coordinates\n",
    "parameter =[] #TRF parameter settings, will not be used for downstream analysis\n",
    "metrics = [] #TRF metrics output for each locus, including repeat purity\n",
    "i = 8 \n",
    "\n",
    "while i<len(trf_output):\n",
    "    if \"Sequence:\" in trf_output[i]:\n",
    "        sequence.append(trf_output[i])\n",
    "    elif \"Parameters:\" in trf_output[i]: \n",
    "        parameter.append(trf_output[i])\n",
    "        i+=3\n",
    "        metrics.append(trf_output[i])\n",
    "    i+=1\n",
    "        "
   ]
  },
  {
   "cell_type": "markdown",
   "id": "87860b4d",
   "metadata": {},
   "source": [
    "Sanity checks: "
   ]
  },
  {
   "cell_type": "code",
   "execution_count": 4,
   "id": "8202399f",
   "metadata": {},
   "outputs": [
    {
     "name": "stdout",
     "output_type": "stream",
     "text": [
      "174287\n",
      "174287\n",
      "174287\n"
     ]
    }
   ],
   "source": [
    "print(len(sequence))\n",
    "print(len(parameter))\n",
    "print(len(metrics))"
   ]
  },
  {
   "cell_type": "markdown",
   "id": "65175a93",
   "metadata": {},
   "source": [
    "The Illumina catalog has 174, 393 loci. We removed 6 loci containing compound repeats prior to this analysis, so the 3 arrays above have the length we expect. "
   ]
  },
  {
   "cell_type": "markdown",
   "id": "b819408f",
   "metadata": {},
   "source": [
    "Example output from each array:"
   ]
  },
  {
   "cell_type": "code",
   "execution_count": 5,
   "id": "66015d76",
   "metadata": {},
   "outputs": [
    {
     "name": "stdout",
     "output_type": "stream",
     "text": [
      "Sequence: chrX:148500631-148500691\n",
      "\n",
      "Parameters: 2 7 7 80 10 2 500\n",
      "\n",
      "1 60 3 20.0 3 92 0 102 0 63 33 3 1.11 GCC GCCGCTGCCGCCGCCGCCGCCGCCGCCGCCGCCGCCGCCGCCGCCGCCGCCGCTGCCGCC\n",
      "\n",
      "Sequence: chrX:67545316-67545385\n",
      "\n",
      "Parameters: 2 7 7 80 10 2 500\n",
      "\n",
      "1 69 3 23.0 3 100 0 138 33 33 33 0 1.58 GCA GCAGCAGCAGCAGCAGCAGCAGCAGCAGCAGCAGCAGCAGCAGCAGCAGCAGCAGCAGCAGCAGCAGCA\n",
      "\n"
     ]
    }
   ],
   "source": [
    "for i in range(0,2): \n",
    "    print(sequence[i])\n",
    "    print(parameter[i])\n",
    "    print(metrics[i])"
   ]
  },
  {
   "cell_type": "markdown",
   "id": "4c31f13f",
   "metadata": {},
   "source": [
    "The 3 arrays have the content we expect them to have. "
   ]
  },
  {
   "cell_type": "markdown",
   "id": "cb32f4b4",
   "metadata": {},
   "source": [
    "Some loci were not analysed by TandemRepeatFinder because their sequence was too short. These loci will have only a new line character as their entry in the metrics field. We will filter out these entries and deal with them later. "
   ]
  },
  {
   "cell_type": "code",
   "execution_count": 6,
   "id": "a5aa2d28",
   "metadata": {},
   "outputs": [],
   "source": [
    "blank_metrics_index=[]\n",
    "i=0\n",
    "while i<len(metrics):\n",
    "    if metrics[i] ==\"\\n\":\n",
    "        blank_metrics_index.append(i)\n",
    "    i+=1"
   ]
  },
  {
   "cell_type": "code",
   "execution_count": 7,
   "id": "794b27d5",
   "metadata": {},
   "outputs": [
    {
     "name": "stdout",
     "output_type": "stream",
     "text": [
      "6409\n"
     ]
    }
   ],
   "source": [
    "print(len(blank_metrics_index))"
   ]
  },
  {
   "cell_type": "markdown",
   "id": "bdc0a999",
   "metadata": {},
   "source": [
    "Out of the 174287 loci analysed, 6409 loci have sequences that are too short to be analysed by TRF, and thus will need to be checked for repeat purity using an alternative method. "
   ]
  },
  {
   "cell_type": "markdown",
   "id": "ceb8cbb5",
   "metadata": {},
   "source": [
    "### TRF loci filtering"
   ]
  },
  {
   "cell_type": "markdown",
   "id": "f6bda9d2",
   "metadata": {},
   "source": [
    "We will first look at loci analysed by TRF. "
   ]
  },
  {
   "cell_type": "code",
   "execution_count": 8,
   "id": "2636e112",
   "metadata": {},
   "outputs": [],
   "source": [
    "TRF_sequence = [] #loci coordinates\n",
    "TRF_repeat_purity = [] #repeat purity associated with locus (value ranges from 0-100)\n",
    "\n",
    "j=0 \n",
    "while j< len(sequence):\n",
    "    if j not in blank_metrics_index: \n",
    "        TRF_sequence.append((sequence[j])[10:]) #removes \"Sequence:\" from the coordinates string\n",
    "        TRF_repeat_purity.append(metrics[j].split()[5]) #extracts the repeat purity value from the metrics output\n",
    "    j+=1\n",
    "        "
   ]
  },
  {
   "cell_type": "markdown",
   "id": "9a9c89b3",
   "metadata": {},
   "source": [
    "Sanity check"
   ]
  },
  {
   "cell_type": "code",
   "execution_count": 9,
   "id": "b09a3e8d",
   "metadata": {},
   "outputs": [
    {
     "name": "stdout",
     "output_type": "stream",
     "text": [
      "167878\n",
      "167878\n"
     ]
    }
   ],
   "source": [
    "print(len(TRF_sequence))\n",
    "print(len(TRF_repeat_purity))"
   ]
  },
  {
   "cell_type": "markdown",
   "id": "c39b3486",
   "metadata": {},
   "source": [
    "There are 167, 878 loci analysed by TRF."
   ]
  },
  {
   "cell_type": "markdown",
   "id": "0eb277b3",
   "metadata": {},
   "source": [
    "Example output of arrays:"
   ]
  },
  {
   "cell_type": "code",
   "execution_count": 10,
   "id": "ab71138c",
   "metadata": {},
   "outputs": [
    {
     "name": "stdout",
     "output_type": "stream",
     "text": [
      "chrX:148500631-148500691\n",
      "\n",
      "92\n",
      "chrX:67545316-67545385\n",
      "\n",
      "100\n"
     ]
    }
   ],
   "source": [
    "for i in range(0,2):\n",
    "    print(TRF_sequence[i])\n",
    "    print(TRF_repeat_purity[i])"
   ]
  },
  {
   "cell_type": "markdown",
   "id": "20991153",
   "metadata": {},
   "source": [
    "Now we will filter the loci identified by TRF according to repeat purity. Only loci with 100% repeat purity will be kept. "
   ]
  },
  {
   "cell_type": "code",
   "execution_count": 11,
   "id": "7dafd746",
   "metadata": {},
   "outputs": [],
   "source": [
    "k= 0\n",
    "pure_repeats_index =[] #stores indices of entries with pure repeats \n",
    "while k<len(TRF_repeat_purity):\n",
    "    if TRF_repeat_purity[k]==\"100\": \n",
    "        pure_repeats_index.append(k)\n",
    "    k+=1\n",
    "        "
   ]
  },
  {
   "cell_type": "code",
   "execution_count": 12,
   "id": "a3c306e3",
   "metadata": {},
   "outputs": [],
   "source": [
    "l=0\n",
    "coordinates_of_pure_repeats =[] #stores coordinates of sequences with pure repeats\n",
    "while l<len(pure_repeats_index):\n",
    "    coordinates_of_pure_repeats.append(TRF_sequence[pure_repeats_index[l]])\n",
    "    l+=1\n",
    "        \n"
   ]
  },
  {
   "cell_type": "code",
   "execution_count": 13,
   "id": "dae986e6",
   "metadata": {},
   "outputs": [
    {
     "name": "stdout",
     "output_type": "stream",
     "text": [
      "159812\n"
     ]
    }
   ],
   "source": [
    "print(len(pure_repeats_index))"
   ]
  },
  {
   "cell_type": "code",
   "execution_count": 14,
   "id": "6d6b0f9d",
   "metadata": {},
   "outputs": [
    {
     "name": "stdout",
     "output_type": "stream",
     "text": [
      "159812\n"
     ]
    }
   ],
   "source": [
    "print(len(coordinates_of_pure_repeats))"
   ]
  },
  {
   "cell_type": "markdown",
   "id": "ff34bd58",
   "metadata": {},
   "source": [
    "There are 159,812 pure repeat loci, as identified by TRF. Their coordinates are stored in `coordinates_of_pure_repeats`."
   ]
  },
  {
   "cell_type": "markdown",
   "id": "ed4e3252",
   "metadata": {},
   "source": [
    "### Purity filtering of loci not assessed by TRF"
   ]
  },
  {
   "cell_type": "markdown",
   "id": "1dcabe1b",
   "metadata": {},
   "source": [
    "Now we will assess the loci that were not assessed by TRF because their sequence length was too short. "
   ]
  },
  {
   "cell_type": "code",
   "execution_count": 15,
   "id": "70a594eb",
   "metadata": {},
   "outputs": [],
   "source": [
    "blank_coordinates =[] #stores the coordinates of loci not assess with TRF (ie entries with blank metrics)\n",
    "j=0 \n",
    "while j< len(sequence):\n",
    "    if j  in blank_metrics_index: \n",
    "        blank_coordinates.append((sequence[j])[10:].rstrip()) #remove \"Sequence:\" from the start of each string, and new line char from end of string\n",
    "    j+=1"
   ]
  },
  {
   "cell_type": "code",
   "execution_count": 16,
   "id": "635bd450",
   "metadata": {},
   "outputs": [
    {
     "name": "stdout",
     "output_type": "stream",
     "text": [
      "6409\n"
     ]
    }
   ],
   "source": [
    "print(len(blank_coordinates))"
   ]
  },
  {
   "cell_type": "markdown",
   "id": "25e206d1",
   "metadata": {},
   "source": [
    "There are 6,409 loci that were not assessed by TRF, and thus need to be assessed for purity in this section."
   ]
  },
  {
   "cell_type": "markdown",
   "id": "701ae18f",
   "metadata": {},
   "source": [
    "To assess for purity of these sequences, we will consider whether the reference FASTA sequence is made up of perfect copies of the motif. We will consider loci that failed this filter on a case-by-case basis. \n",
    "\n",
    "Broadly we will: \n",
    "- Use the Illumina BED catalog to create a `motif_dictionary` that maps the coordinates of each locus to their respective motif. \n",
    "- Create a `fasta_dictionary` that maps the coordinates of each locus to their respective fasta sequence. \n",
    "- Assess each of the 6,409 unassessed loci to see if their fasta sequence (from `fasta_dictionary`) is made up of perfect copies of the motif (from `motif_dictionary`). "
   ]
  },
  {
   "cell_type": "markdown",
   "id": "d734cfbd",
   "metadata": {},
   "source": [
    "#### Motif dictionary creation (key: genomic coordinates, value: motif)"
   ]
  },
  {
   "cell_type": "code",
   "execution_count": 17,
   "id": "c7f7fd15",
   "metadata": {},
   "outputs": [],
   "source": [
    "b = open('bed_catalog_without_complex_repeats.bed')"
   ]
  },
  {
   "cell_type": "code",
   "execution_count": 18,
   "id": "ab725d16",
   "metadata": {},
   "outputs": [],
   "source": [
    "bed_catalog = b.readlines()"
   ]
  },
  {
   "cell_type": "code",
   "execution_count": 19,
   "id": "0cee5f06",
   "metadata": {},
   "outputs": [],
   "source": [
    "motif_dictionary = {}\n",
    "i = 0\n",
    "while i < len(bed_catalog):\n",
    "    bed_line = bed_catalog[i].split(\"\\t\")\n",
    "    coordinates = bed_line[0]+\":\"+bed_line[1]+\"-\"+bed_line[2] #concatenates the chromosome, start_coordinate, and end_coordinate information\n",
    "    motif = bed_line[4].rstrip() #remove new line character\n",
    "    motif_dictionary[coordinates] = motif\n",
    "    i+=1"
   ]
  },
  {
   "cell_type": "code",
   "execution_count": 20,
   "id": "0f82fbd8",
   "metadata": {},
   "outputs": [
    {
     "data": {
      "text/plain": [
       "174287"
      ]
     },
     "execution_count": 20,
     "metadata": {},
     "output_type": "execute_result"
    }
   ],
   "source": [
    "len(motif_dictionary)"
   ]
  },
  {
   "cell_type": "markdown",
   "id": "62a48e3b",
   "metadata": {},
   "source": [
    "Example output"
   ]
  },
  {
   "cell_type": "code",
   "execution_count": 21,
   "id": "65c0046e",
   "metadata": {},
   "outputs": [
    {
     "name": "stdout",
     "output_type": "stream",
     "text": [
      "GGCCCC\n"
     ]
    }
   ],
   "source": [
    "print(motif_dictionary[\"chr9:27573528-27573546\"])"
   ]
  },
  {
   "cell_type": "markdown",
   "id": "b2fbf32e",
   "metadata": {},
   "source": [
    "#### Fasta dictionary creation (key: genomic coordinates, value: FASTA sequence)"
   ]
  },
  {
   "cell_type": "code",
   "execution_count": 22,
   "id": "c14cfa89",
   "metadata": {},
   "outputs": [],
   "source": [
    "d = open('catalog_fasta_sequences.fasta.txt')"
   ]
  },
  {
   "cell_type": "code",
   "execution_count": 23,
   "id": "2b615a67",
   "metadata": {},
   "outputs": [],
   "source": [
    "fasta = d.readlines()"
   ]
  },
  {
   "cell_type": "code",
   "execution_count": 24,
   "id": "2ae57751",
   "metadata": {},
   "outputs": [],
   "source": [
    "fasta_dictionary = {}\n",
    "m=0 \n",
    "while m<len(fasta):\n",
    "    if \">chr\" in fasta[m]:\n",
    "        coordinates = fasta[m][1:].rstrip() #removes the \">\" from the coordinates entry\n",
    "        m+=1\n",
    "        fasta_seq = fasta[m].rstrip() #removes new line char\n",
    "        fasta_dictionary[coordinates] = fasta_seq\n",
    "    m+=1\n",
    "        "
   ]
  },
  {
   "cell_type": "markdown",
   "id": "1cb50570",
   "metadata": {},
   "source": [
    "Example usage"
   ]
  },
  {
   "cell_type": "code",
   "execution_count": 25,
   "id": "dd779713",
   "metadata": {},
   "outputs": [
    {
     "name": "stdout",
     "output_type": "stream",
     "text": [
      "CAGCAACAGCAACAGCAGCAGCAGCAGCAGCAGCAGCAGCAGCAGCAGCAGCAGCAG\n",
      "CAG\n"
     ]
    }
   ],
   "source": [
    "print(fasta_dictionary[\"chr12:6936716-6936773\"])\n",
    "print(motif_dictionary[\"chr12:6936716-6936773\"])\n"
   ]
  },
  {
   "cell_type": "markdown",
   "id": "5163c7b2",
   "metadata": {},
   "source": [
    "#### Assessment of the 6,409 loci"
   ]
  },
  {
   "cell_type": "markdown",
   "id": "5214359b",
   "metadata": {},
   "source": [
    "As a broad filter with high specificity, we will first check if the reference sequence is made up of perfect copies of the motif at each locus."
   ]
  },
  {
   "cell_type": "code",
   "execution_count": 26,
   "id": "9fcaf4a4",
   "metadata": {},
   "outputs": [],
   "source": [
    "impure_repeats_coordinates=[] #stores coordinates of impure repeats \n",
    "for i in blank_coordinates: #blank_coordinates contains coordinates of loci not assessed by TRF (ie those that have blank metrics)\n",
    "    motif = motif_dictionary[i]\n",
    "    fasta = fasta_dictionary[i]\n",
    "    num_repeats = len(fasta)/len(motif)\n",
    "    simulated_fasta = \"\"\n",
    "    for x in range(int(num_repeats)): #creates a simulated sequence made up of repeating motifs\n",
    "        simulated_fasta = simulated_fasta+motif \n",
    "    if simulated_fasta != fasta: \n",
    "        impure_repeats_coordinates.append(i)\n",
    "    else: \n",
    "        coordinates_of_pure_repeats.append(i) #adds to existing array of coordinates of pure repeats as identified with TRF purity score\n",
    "    \n",
    "    "
   ]
  },
  {
   "cell_type": "code",
   "execution_count": 27,
   "id": "c0074454",
   "metadata": {},
   "outputs": [
    {
     "name": "stdout",
     "output_type": "stream",
     "text": [
      "42\n"
     ]
    }
   ],
   "source": [
    "print(len(impure_repeats_coordinates))"
   ]
  },
  {
   "cell_type": "code",
   "execution_count": 28,
   "id": "c09612a3",
   "metadata": {},
   "outputs": [
    {
     "name": "stdout",
     "output_type": "stream",
     "text": [
      "166179\n"
     ]
    }
   ],
   "source": [
    "print(len(coordinates_of_pure_repeats))"
   ]
  },
  {
   "cell_type": "markdown",
   "id": "457b4e3c",
   "metadata": {},
   "source": [
    "This filter was able to identify that most of the loci were pure repeats, and there were only 42 remaining impure loci to look at manually. "
   ]
  },
  {
   "cell_type": "markdown",
   "id": "521d7233",
   "metadata": {},
   "source": [
    "#### Manual filtering of remaining 42 loci"
   ]
  },
  {
   "cell_type": "markdown",
   "id": "ba039e49",
   "metadata": {},
   "source": [
    "We will look at each entry manually to see if any contain permutations of pure repeats (eg instead of ATG x3, it is TGAx3)"
   ]
  },
  {
   "cell_type": "code",
   "execution_count": 29,
   "id": "81a5bc1d",
   "metadata": {},
   "outputs": [
    {
     "name": "stdout",
     "output_type": "stream",
     "text": [
      "TCACTCATTCACTCAC\n",
      "TCAC\n",
      "TTATTTAATTATTTAT\n",
      "TTAT\n",
      "AATAAAAATAAT\n",
      "AAT\n",
      "TTTGTTTCTTTGTTTG\n",
      "TTTG\n",
      "CGCCGTCGCCGC\n",
      "CGC\n",
      "AATGAATCAATGAATG\n",
      "AATG\n",
      "TGTTGTTATTGT\n",
      "TGT\n",
      "AAGAAAGGAAGAAAGA\n",
      "AAGA\n",
      "TTTGTTTATTTGTTTG\n",
      "TTTG\n",
      "TTTATTTGTTTATTTA\n",
      "TTTA\n",
      "AAACAAAGAAACAAAC\n",
      "AAAC\n",
      "GGCGGGCAGGCGGGCG\n",
      "GGCG\n",
      "CAGCAGAAGCAG\n",
      "CAG\n",
      "AAACAAATAAACAAAC\n",
      "AAAC\n",
      "GAAGAAGGAGAA\n",
      "GAA\n",
      "TATTTATGTATTTATT\n",
      "TATT\n",
      "ATTAATTGATTAATTA\n",
      "ATTA\n",
      "TTGTTTGCTTGTTTGT\n",
      "TTGT\n",
      "GGAGGGAGCGAGGGAG\n",
      "GGAG\n",
      "AACAAAAACAAC\n",
      "AAC\n",
      "TTTATTTCTTTATTTA\n",
      "TTTA\n",
      "CTATCTACCTATCTAT\n",
      "CTAT\n",
      "TTTATTTCTTTATTTA\n",
      "TTTA\n",
      "GTTTGTTCGTTTGTTT\n",
      "GTTT\n",
      "AAACAAATAAACAAAC\n",
      "AAAC\n",
      "TAAATAAGTAAATAAA\n",
      "TAAA\n",
      "AAACAAATAAACAAAC\n",
      "AAAC\n",
      "CATTCATTAATTCATT\n",
      "CATT\n",
      "TTTCTTTATTTCTTTC\n",
      "TTTC\n",
      "CCACCTCCACCA\n",
      "CCA\n",
      "TCATTCACTCATTCAT\n",
      "TCAT\n",
      "CTTCCTTTCTTCCTTC\n",
      "CTTC\n",
      "GTTTGTTCGTTTGTTT\n",
      "GTTT\n",
      "TATCTATGTATCTATC\n",
      "TATC\n",
      "AAAGAAATAAAGAAAG\n",
      "AAAG\n",
      "AACAAACGAACAAACA\n",
      "AACA\n",
      "TTTATTTGTTTATTTA\n",
      "TTTA\n",
      "TTATTTACTTATTTAT\n",
      "TTAT\n",
      "AATGAATAAATGAATG\n",
      "AATG\n",
      "TTTGTTTATTTGTTTG\n",
      "TTTG\n",
      "AAACAAAGAAACAAAC\n",
      "AAAC\n",
      "TTTGTTTCTTTGTTTG\n",
      "TTTG\n"
     ]
    }
   ],
   "source": [
    "for i in impure_repeats_coordinates:\n",
    "    print(fasta_dictionary[i])\n",
    "    print (motif_dictionary[i])"
   ]
  },
  {
   "cell_type": "markdown",
   "id": "95edb375",
   "metadata": {},
   "source": [
    "All the 42 loci above contain indels and are therefore confirmed impure repeats. "
   ]
  },
  {
   "cell_type": "markdown",
   "id": "8ac6e86c",
   "metadata": {},
   "source": [
    "### Finishing up "
   ]
  },
  {
   "cell_type": "markdown",
   "id": "bf3eded5",
   "metadata": {},
   "source": [
    "In summary we have parsed the Illumina 174k loci catalog for pure repeats. Repeat purity was defined preferentially by TRF's purity metric. If the TRF metric was unavaiable, purity was defined as whether the locus' FASTA sequence was made up of perfect copies of the motif. "
   ]
  },
  {
   "cell_type": "code",
   "execution_count": 30,
   "id": "af3c496d",
   "metadata": {},
   "outputs": [
    {
     "data": {
      "text/plain": [
       "166179"
      ]
     },
     "execution_count": 30,
     "metadata": {},
     "output_type": "execute_result"
    }
   ],
   "source": [
    "len(coordinates_of_pure_repeats)"
   ]
  },
  {
   "cell_type": "markdown",
   "id": "85f4c4ce",
   "metadata": {},
   "source": [
    "In total, there are 166, 179 loci made up of pure repeats. These loci will be used for benchmarking analysis. "
   ]
  }
 ],
 "metadata": {
  "kernelspec": {
   "display_name": "Python 3 (ipykernel)",
   "language": "python",
   "name": "python3"
  },
  "language_info": {
   "codemirror_mode": {
    "name": "ipython",
    "version": 3
   },
   "file_extension": ".py",
   "mimetype": "text/x-python",
   "name": "python",
   "nbconvert_exporter": "python",
   "pygments_lexer": "ipython3",
   "version": "3.9.5"
  }
 },
 "nbformat": 4,
 "nbformat_minor": 5
}
