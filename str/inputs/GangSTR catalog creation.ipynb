{
 "cells": [
  {
   "cell_type": "markdown",
   "id": "520c27c7",
   "metadata": {},
   "source": [
    "## GangSTR catalog creation \n",
    "Hope Tanudisastro | Jan 24, 2022"
   ]
  },
  {
   "cell_type": "markdown",
   "id": "dc6d81b2",
   "metadata": {},
   "source": [
    "### Importing variant catalog file from Illumina"
   ]
  },
  {
   "cell_type": "code",
   "execution_count": 135,
   "id": "18f230b4",
   "metadata": {},
   "outputs": [],
   "source": [
    "import json, csv, re\n",
    "f = open('Illuminavariant_catalog.json')"
   ]
  },
  {
   "cell_type": "code",
   "execution_count": 136,
   "id": "edc361c6",
   "metadata": {},
   "outputs": [],
   "source": [
    "data = json.load (f)"
   ]
  },
  {
   "cell_type": "markdown",
   "id": "356af0ae",
   "metadata": {},
   "source": [
    "### Extracting off-target loci, coordinates and motif"
   ]
  },
  {
   "cell_type": "code",
   "execution_count": 137,
   "id": "2ed73929",
   "metadata": {},
   "outputs": [],
   "source": [
    "coordinates = []\n",
    "motif = []\n",
    "offtarget = []\n",
    "\n",
    "k = \"OfftargetRegions\"\n",
    "for i in data:\n",
    "    coordinates.append(i['ReferenceRegion'])\n",
    "    motif.append(i['LocusStructure'])\n",
    "    if k in i.keys():\n",
    "        offtarget.append(i[\"OfftargetRegions\"])\n",
    "    else:\n",
    "        offtarget.append(\"b\") #spacer\n",
    "       "
   ]
  },
  {
   "cell_type": "markdown",
   "id": "ef8cbb15",
   "metadata": {},
   "source": [
    " Make each entry in `offtarget` a string separated by \",\" (format accepted by GangSTR)"
   ]
  },
  {
   "cell_type": "code",
   "execution_count": 138,
   "id": "02743726",
   "metadata": {},
   "outputs": [],
   "source": [
    "off_target_index = []\n",
    "\n",
    "\n",
    "for i in range(len(offtarget)):\n",
    "    if offtarget[i]!=\"b\": \n",
    "        offtarget[i] = \",\".join(offtarget[i])\n",
    "        off_target_index.append(i)"
   ]
  },
  {
   "cell_type": "markdown",
   "id": "119679a8",
   "metadata": {},
   "source": [
    "Check how many loci have complex (multiple) repeat structures and print out coordinates and motif"
   ]
  },
  {
   "cell_type": "code",
   "execution_count": 139,
   "id": "ab0a0214",
   "metadata": {},
   "outputs": [
    {
     "name": "stdout",
     "output_type": "stream",
     "text": [
      "['chr3:63912684-63912714', 'chr3:63912714-63912726']\n",
      "['chr13:70139353-70139383', 'chr13:70139383-70139428']\n",
      "['chr3:129172576-129172656', 'chr3:129172656-129172696', 'chr3:129172696-129172732']\n",
      "['chr9:69037261-69037286', 'chr9:69037286-69037304']\n",
      "['chr4:3074876-3074933', 'chr4:3074939-3074966']\n",
      "['chr20:2652733-2652757', 'chr20:2652757-2652775']\n"
     ]
    }
   ],
   "source": [
    "for i in coordinates: \n",
    "    if type(i) == type(coordinates): # complex repeats will have an array structure\n",
    "        print(i)"
   ]
  },
  {
   "cell_type": "code",
   "execution_count": 140,
   "id": "c29b0ad8",
   "metadata": {},
   "outputs": [
    {
     "name": "stdout",
     "output_type": "stream",
     "text": [
      "(GCA)*(GCC)+\n",
      "(CTA)*(CTG)*\n",
      "(CAGG)*(CAGA)*(CA)*\n",
      "(A)*(GAA)*\n",
      "(CAG)*CAACAG(CCG)*\n",
      "(GGCCTG)*(CGCCTG)*\n"
     ]
    }
   ],
   "source": [
    "for j in motif: \n",
    "    if j.count(\"(\")>=2:\n",
    "        print(j)"
   ]
  },
  {
   "cell_type": "markdown",
   "id": "fd3f4710",
   "metadata": {},
   "source": [
    "Extract indices of complex repeats"
   ]
  },
  {
   "cell_type": "code",
   "execution_count": 141,
   "id": "8e717eea",
   "metadata": {},
   "outputs": [],
   "source": [
    "complex_repeats_index=[]\n",
    "for i in coordinates: \n",
    "    if type(i) == type(coordinates):\n",
    "        complex_repeats_index.append(coordinates.index(i))"
   ]
  },
  {
   "cell_type": "code",
   "execution_count": 142,
   "id": "89c554be",
   "metadata": {},
   "outputs": [
    {
     "name": "stdout",
     "output_type": "stream",
     "text": [
      "[7, 8, 12, 17, 20, 23]\n"
     ]
    }
   ],
   "source": [
    "print(complex_repeats_index)"
   ]
  },
  {
   "cell_type": "markdown",
   "id": "a472298d",
   "metadata": {},
   "source": [
    "### Convert complex/impure repeats into the pure repeat structure format accepted by GangSTR"
   ]
  },
  {
   "cell_type": "markdown",
   "id": "1b44257e",
   "metadata": {},
   "source": [
    "GangSTR removes TRs within 50bp of another TR and does not accept sequence interruptions in its catalog. "
   ]
  },
  {
   "cell_type": "markdown",
   "id": "7f32bfff",
   "metadata": {},
   "source": [
    "#### Clean up coordinates of complex repeats\n",
    "For `coordinates[17]`, second repeat structure was selected because first repeat is a homopolymer. `coordinates[17]` was not formally listed in GangSTR catalog. For `coordinates[8]`, second repeat structure was selected because it was longer than the first repeat structure in the reference genome. "
   ]
  },
  {
   "cell_type": "code",
   "execution_count": 143,
   "id": "2a5306e7",
   "metadata": {},
   "outputs": [],
   "source": [
    "for k in complex_repeats_index:\n",
    "    if k == 8: \n",
    "        coordinates[k] = coordinates[k][1]\n",
    "    elif k == 17: \n",
    "        coordinates[k] = coordinates[k][1]\n",
    "    else:\n",
    "        coordinates[k] = coordinates[k][0]"
   ]
  },
  {
   "cell_type": "markdown",
   "id": "28ad4dbf",
   "metadata": {},
   "source": [
    "#### Clean up motifs of complex repeats"
   ]
  },
  {
   "cell_type": "code",
   "execution_count": 144,
   "id": "d5e67b72",
   "metadata": {},
   "outputs": [],
   "source": [
    "for k in complex_repeats_index:\n",
    "    if (motif[k].count(\")\")>=2):\n",
    "        split_motif = motif[k].split(\")\",1)\n",
    "        if k == 8: \n",
    "            motif[k] = split_motif[1]\n",
    "        elif k == 17:\n",
    "            motif[k] = split_motif[1]\n",
    "        else: \n",
    "            motif[k]= split_motif[0]"
   ]
  },
  {
   "cell_type": "markdown",
   "id": "6695e19e",
   "metadata": {},
   "source": [
    "### Clean up and prepare for GangSTR catalog format "
   ]
  },
  {
   "cell_type": "markdown",
   "id": "b8bdd25e",
   "metadata": {},
   "source": [
    "#### Remove regular expression characters from motif definition"
   ]
  },
  {
   "cell_type": "code",
   "execution_count": 145,
   "id": "e6ab1d58",
   "metadata": {},
   "outputs": [],
   "source": [
    "for i in range(len(motif)): \n",
    "    line = motif[i]\n",
    "    motif[i] = re.sub('[()*+]', '', line)"
   ]
  },
  {
   "cell_type": "markdown",
   "id": "cfb4d430",
   "metadata": {},
   "source": [
    "#### Create motif length attribute"
   ]
  },
  {
   "cell_type": "code",
   "execution_count": 146,
   "id": "91c1f1b7",
   "metadata": {},
   "outputs": [],
   "source": [
    "motif_length = []\n",
    "for i in range(len(motif)):\n",
    "    motif_length.append(len(motif[i]))   "
   ]
  },
  {
   "cell_type": "markdown",
   "id": "5e62a650",
   "metadata": {},
   "source": [
    "#### Create separate chromosome and coordinate attributes"
   ]
  },
  {
   "cell_type": "code",
   "execution_count": 147,
   "id": "1365f521",
   "metadata": {},
   "outputs": [
    {
     "name": "stdout",
     "output_type": "stream",
     "text": [
      "chr13:70139383-70139428\n"
     ]
    }
   ],
   "source": [
    "print(coordinates[8])"
   ]
  },
  {
   "cell_type": "code",
   "execution_count": 148,
   "id": "50f2a0e3",
   "metadata": {},
   "outputs": [],
   "source": [
    "chromosome = [] \n",
    "coordinate_1 =[]\n",
    "coordinate_2 = []\n",
    "\n",
    "for i in range(len(coordinates)): \n",
    "    chromosome.append((coordinates[i].split(\":\"))[0])\n",
    "    coordinate_pair = coordinates[i].split(\":\")[1]\n",
    "    #print(coordinate_pair)\n",
    "    coordinate_1.append(coordinate_pair.split(\"-\")[0])\n",
    "    coordinate_2.append(coordinate_pair.split(\"-\")[1])\n"
   ]
  },
  {
   "cell_type": "markdown",
   "id": "167aaa1a",
   "metadata": {},
   "source": [
    "### Create a BED file using the attributes"
   ]
  },
  {
   "cell_type": "code",
   "execution_count": 149,
   "id": "9d8152a2",
   "metadata": {},
   "outputs": [],
   "source": [
    "gangstr_catalog = open(\"gangstr_catalog_with_offtarget_042022.bed\", \"w\")\n",
    "for i in range(len(coordinates)): \n",
    "    if i in off_target_index:\n",
    "        gangstr_catalog.write(chromosome[i]+\"\\t\"+ coordinate_1[i] +\"\\t\"+ coordinate_2[i]+\"\\t\"+ str(motif_length[i])+\"\\t\"+ motif[i]+\"\\t\"+offtarget[i]+\"\\n\")\n",
    "    else:\n",
    "        gangstr_catalog.write(chromosome[i]+\"\\t\"+ coordinate_1[i] +\"\\t\"+ coordinate_2[i]+\"\\t\"+ str(motif_length[i])+\"\\t\"+ motif[i]+\"\\n\")\n",
    "gangstr_catalog.close()"
   ]
  },
  {
   "cell_type": "code",
   "execution_count": null,
   "id": "fcf0ab0d",
   "metadata": {},
   "outputs": [],
   "source": []
  }
 ],
 "metadata": {
  "kernelspec": {
   "display_name": "Python 3 (ipykernel)",
   "language": "python",
   "name": "python3"
  },
  "language_info": {
   "codemirror_mode": {
    "name": "ipython",
    "version": 3
   },
   "file_extension": ".py",
   "mimetype": "text/x-python",
   "name": "python",
   "nbconvert_exporter": "python",
   "pygments_lexer": "ipython3",
   "version": "3.9.5"
  }
 },
 "nbformat": 4,
 "nbformat_minor": 5
}
